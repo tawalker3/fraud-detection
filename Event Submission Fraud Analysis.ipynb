{
 "cells": [
  {
   "cell_type": "code",
   "execution_count": 116,
   "metadata": {
    "collapsed": false
   },
   "outputs": [],
   "source": [
    "import matplotlib.pyplot as plt\n",
    "import seaborn as sns\n",
    "import pandas as pd\n",
    "import numpy as np\n",
    "import html2text\n",
    "\n",
    "from sklearn.naive_bayes import MultinomialNB\n",
    "from sklearn.feature_extraction.text import TfidfVectorizer\n",
    "from sklearn.ensemble import AdaBoostClassifier, RandomForestClassifier\n",
    "from sklearn.tree import DecisionTreeClassifier\n",
    "from sklearn.cross_validation import train_test_split\n",
    "from sklearn.metrics import confusion_matrix\n",
    "from sklearn.preprocessing import Imputer\n",
    "from collections import Counter\n",
    "\n",
    "%matplotlib inline"
   ]
  },
  {
   "cell_type": "markdown",
   "metadata": {},
   "source": [
    "<p>First, I load the data into a pandas Dataframe. I also determine the labels for the data. For this analysis, any account type that has a label beginning with \"frauds\" will be considered fraud.</p>"
   ]
  },
  {
   "cell_type": "code",
   "execution_count": 117,
   "metadata": {
    "collapsed": true
   },
   "outputs": [],
   "source": [
    "data = pd.read_json('train_new.json')\n",
    "\n",
    "# Get labels for data\n",
    "def get_acct_type(row):\n",
    "    return row.startswith('frauds') * 1\n",
    "\n",
    "\n",
    "data['acct_type'] = data['acct_type'].apply(get_acct_type)"
   ]
  },
  {
   "cell_type": "markdown",
   "metadata": {},
   "source": [
    "<p>Now, I split the dataframe into features (X) and labels (y) and perform a train-test split using scikit-learn. Then I put the labels back onto the training set to perform exploratory data analysis (EDA).</p>"
   ]
  },
  {
   "cell_type": "code",
   "execution_count": 118,
   "metadata": {
    "collapsed": false
   },
   "outputs": [],
   "source": [
    "y = data.pop('acct_type')\n",
    "X = data\n",
    "\n",
    "X_train, X_test, y_train, y_test = train_test_split(X, y)\n",
    "# Put training data back together for EDA\n",
    "X_train['acct_type'] = y_train"
   ]
  },
  {
   "cell_type": "markdown",
   "metadata": {},
   "source": [
    "<p>Several columns have missing values, so I will deal with that as I get to each column.</p>\n",
    "\n",
    "<p>The first feature I will explore is 'gts'. This data did not come with a README, so it is unclear what this feature is. The values do not appear to be timestamps or prices. They are all integers.</p>"
   ]
  },
  {
   "cell_type": "code",
   "execution_count": 119,
   "metadata": {
    "collapsed": false
   },
   "outputs": [
    {
     "data": {
      "text/plain": [
       "<matplotlib.legend.Legend at 0x1ea4f9f50>"
      ]
     },
     "execution_count": 119,
     "metadata": {},
     "output_type": "execute_result"
    },
    {
     "data": {
      "image/png": "[encoded data removed]",
      "text/plain": [
       "<matplotlib.figure.Figure at 0x164380a50>"
      ]
     },
     "metadata": {},
     "output_type": "display_data"
    }
   ],
   "source": [
    "sns.distplot(X_train[X_train['acct_type'] == 0]['gts'], hist=False, kde=True, label='Non-fraud')\n",
    "sns.distplot(X_train[X_train['acct_type'] == 1]['gts'], hist=False, kde=True, label='Fraud')\n",
    "plt.axis([-1000, 20000, 0, 0.0007])\n",
    "plt.legend()"
   ]
  },
  {
   "cell_type": "markdown",
   "metadata": {},
   "source": [
    "<p>As shown by the kernel density estimation (kde) above, the fraudulent events seem to have a higher proportion of low gts values. (The x-axis was truncated, as this is the area that is most interesting.)</p>  "
   ]
  },
  {
   "cell_type": "markdown",
   "metadata": {
    "collapsed": true
   },
   "source": [
    "<p>Now I will look at the quantity of tickets sold for each event. I will first have to calculate the total, since this column contains lists of dictionaries.</p>"
   ]
  },
  {
   "cell_type": "code",
   "execution_count": 120,
   "metadata": {
    "collapsed": false
   },
   "outputs": [],
   "source": [
    "# Sum number of tickets sold for event\n",
    "def get_tix_sold(row):\n",
    "    sold = 0\n",
    "    for ix in row:\n",
    "        sold += ix['quantity_sold']\n",
    "    return sold\n",
    "\n",
    "\n",
    "# Total number of tickets available\n",
    "def get_tix_avail(row):\n",
    "    available = 0\n",
    "    for ix in row:\n",
    "        available += ix['quantity_total']\n",
    "    return available\n",
    "\n",
    "\n",
    "# Whether too many tickets were sold (quantity sold > total for sale)\n",
    "def too_many_tix(row):\n",
    "    sold_too_many = 0\n",
    "    for ix in row:\n",
    "        if (ix['quantity_sold'] > ix['quantity_total']):\n",
    "            sold_too_many = 1\n",
    "    return sold_too_many\n",
    "    \n",
    "\n",
    "X_train['quantity_sold'] = X_train['ticket_types'].apply(get_tix_sold)\n",
    "X_train['quant_avail'] = X_train['ticket_types'].apply(get_tix_avail)\n",
    "X_train['sold_too_many'] = X_train['ticket_types'].apply(too_many_tix)"
   ]
  },
  {
   "cell_type": "code",
   "execution_count": 121,
   "metadata": {
    "collapsed": false
   },
   "outputs": [
    {
     "name": "stdout",
     "output_type": "stream",
     "text": [
      "If events oversold tickets (mean):\n",
      "fraud: 0.0030959752322\n",
      "not fraud: 0.0536645200859\n"
     ]
    }
   ],
   "source": [
    "print \"If events oversold tickets (mean):\"\n",
    "print \"fraud:\", X_train[X_train['acct_type'] == 1]['sold_too_many'].mean()\n",
    "print \"not fraud:\", X_train[X_train['acct_type'] == 0]['sold_too_many'].mean()"
   ]
  },
  {
   "cell_type": "markdown",
   "metadata": {
    "collapsed": false
   },
   "source": [
    "Fraudulent events appear to oversell their tickets at a much lower rate than the non-fraud events."
   ]
  },
  {
   "cell_type": "code",
   "execution_count": 122,
   "metadata": {
    "collapsed": false
   },
   "outputs": [
    {
     "name": "stdout",
     "output_type": "stream",
     "text": [
      "Mean quantity of tickets available:\n",
      "fraud: 42744.9195046\n",
      "not fraud: 2059.98384953\n"
     ]
    }
   ],
   "source": [
    "print \"Mean quantity of tickets available:\"\n",
    "print \"fraud:\", X_train[X_train['acct_type'] == 1]['quant_avail'].mean()\n",
    "print \"not fraud:\", X_train[X_train['acct_type'] == 0]['quant_avail'].mean()"
   ]
  },
  {
   "cell_type": "markdown",
   "metadata": {
    "collapsed": true
   },
   "source": [
    "<p>It appears that fraudulent events, on average, offer significantly more tickets for sale than non-fraudulent events.</p><p>Now, I will look at previous payouts. This column also contains lists of dictionaries. I will extract the length of this list (number of previous payouts) as a feature.</p>"
   ]
  },
  {
   "cell_type": "code",
   "execution_count": 123,
   "metadata": {
    "collapsed": false
   },
   "outputs": [],
   "source": [
    "def prev_payout(row):\n",
    "    return len(row)\n",
    "\n",
    "\n",
    "X_train['previous_payouts'] = X_train['previous_payouts'].apply(prev_payout)"
   ]
  },
  {
   "cell_type": "code",
   "execution_count": 124,
   "metadata": {
    "collapsed": false
   },
   "outputs": [
    {
     "name": "stdout",
     "output_type": "stream",
     "text": [
      "Mean number of previous payouts:\n",
      "fraud: 1.782249742\n",
      "not fraud: 84.75191659\n"
     ]
    }
   ],
   "source": [
    "print \"Mean number of previous payouts:\"\n",
    "print \"fraud:\", X_train[X_train['acct_type'] == 1]['previous_payouts'].mean()\n",
    "print \"not fraud:\", X_train[X_train['acct_type'] == 0]['previous_payouts'].mean()"
   ]
  },
  {
   "cell_type": "markdown",
   "metadata": {},
   "source": [
    "<p>It is clear from the above averages that fraudulent accounts have much fewer previous payouts, on average, than non-fraud accounts. This has the potential to be a useful feature.</p>"
   ]
  },
  {
   "cell_type": "markdown",
   "metadata": {},
   "source": [
    "<p>Now, I will look at the difference between the 'event_start' and 'user_created' timestamps to see if it seems significant for determining whether an event is fraudulent or not.<p> "
   ]
  },
  {
   "cell_type": "code",
   "execution_count": 125,
   "metadata": {
    "collapsed": true
   },
   "outputs": [],
   "source": [
    "X_train['time_diff'] = X_train['event_start'] - X_train['user_created']"
   ]
  },
  {
   "cell_type": "code",
   "execution_count": 126,
   "metadata": {
    "collapsed": false
   },
   "outputs": [
    {
     "name": "stdout",
     "output_type": "stream",
     "text": [
      "Time difference:\n",
      "fraud: 8951889.62229\n",
      "not fraud: 39599356.7979\n"
     ]
    }
   ],
   "source": [
    "print \"Time difference:\"\n",
    "print \"fraud:\", X_train[X_train['acct_type'] == 1]['time_diff'].mean()\n",
    "print \"not fraud:\", X_train[X_train['acct_type'] == 0]['time_diff'].mean()"
   ]
  },
  {
   "cell_type": "code",
   "execution_count": 127,
   "metadata": {
    "collapsed": false
   },
   "outputs": [
    {
     "data": {
      "text/plain": [
       "<matplotlib.legend.Legend at 0x240e09410>"
      ]
     },
     "execution_count": 127,
     "metadata": {},
     "output_type": "execute_result"
    },
    {
     "data": {
      "image/png": "[encoded data removed]",
      "text/plain": [
       "<matplotlib.figure.Figure at 0x11d108910>"
      ]
     },
     "metadata": {},
     "output_type": "display_data"
    }
   ],
   "source": [
    "sns.distplot(X_train[X_train['acct_type'] == 0]['time_diff'], hist=False,\n",
    "             kde=True, label='Non-fraud')\n",
    "sns.distplot(X_train[X_train['acct_type'] == 1]['time_diff'], hist=False,\n",
    "             kde=True, label='Fraud')\n",
    "plt.legend()"
   ]
  },
  {
   "cell_type": "markdown",
   "metadata": {},
   "source": [
    "<p>It appears that fraud accounts tend to have a short amount of time between when the user created the event and when the event starts. The average time difference is higher for non-fraudulent events than fraudulent events. This appears to be significant.</p>"
   ]
  },
  {
   "cell_type": "markdown",
   "metadata": {},
   "source": [
    "<p>---</p>\n",
    "<p>Now, I will look at email domains. For this, I will use Laplace smoothing to determine the probability of fraud for each email domain. To do this, I will use the following equation:</p>\n",
    "\n",
    "$$p_{fraud}=\\frac{n_{fraud} + 1}{n_{total} + 2}$$\n",
    "\n",
    "<p>where <i>p_fraud</i> is the probability of fraud for a given email domain, <i>n_fraud</i> is the number of fraudulent accounts associated with the domain, and <i>n_total</i> is the total number of accounts with the email domain in the training set. <i>p_fraud</i> can be thought of as a Bayesian prior for each email domain. This makes more intuitive sense than calculating the absolute probabilities. i.e.: $$p_{fraud}=\\frac{n_{fraud}}{n_{total}}$$ This way, if there are zero instances of fraud in the training set for one email domain, we don't assume that the probability of there ever being a fraudulent account associated with the domain is 0. Likewise, if 100% of the events in the training set associated with a certain domain are fraudulent, it is not reasonable to assume with 100% certainty that all future events from the email domain will be fraudulent.</p>"
   ]
  },
  {
   "cell_type": "code",
   "execution_count": 128,
   "metadata": {
    "collapsed": false
   },
   "outputs": [],
   "source": [
    "domain_counts_total = Counter(X_train['email_domain'].values)\n",
    "domain_counts_fraud = Counter(X_train[X_train['acct_type'] == 1]['email_domain'].values)\n",
    "\n",
    "p_fraud_emails = {}\n",
    "\n",
    "for domain in domain_counts_total:\n",
    "    fraud_count = domain_counts_fraud.get(domain, 0)\n",
    "    total_count = domain_counts_total[domain]\n",
    "    p_fraud_emails[domain] = (fraud_count + 1) / float(total_count + 2)\n"
   ]
  },
  {
   "cell_type": "code",
   "execution_count": 129,
   "metadata": {
    "collapsed": true
   },
   "outputs": [],
   "source": [
    "def get_email_fraud_prob(row, domain_probs=p_fraud_emails):\n",
    "    # If no info about email domain, return 0.5\n",
    "    # (50% chance it is associated with fraud)\n",
    "    return domain_probs.get(row, 0.5)\n",
    "\n",
    "X_train['email_probs'] = X_train['email_domain'].apply(get_email_fraud_prob)"
   ]
  },
  {
   "cell_type": "code",
   "execution_count": 130,
   "metadata": {
    "collapsed": false
   },
   "outputs": [
    {
     "name": "stdout",
     "output_type": "stream",
     "text": [
      "Rates of fraud (higher values indicate more fraud):\n",
      "\tlatitude:\n",
      "\t\tnot-null:  0.0692740800322\n",
      "\t\tnull:  0.347394540943\n",
      "\tlongitude:\n",
      "\t\tnot-null:  0.0692740800322\n",
      "\t\tnull:  0.347394540943\n"
     ]
    }
   ],
   "source": [
    "print \"Rates of fraud (higher values indicate more fraud):\"\n",
    "print \"\\tlatitude:\"\n",
    "print \"\\t\\tnot-null: \", X_train[X_train['venue_latitude'].notnull()]['acct_type'].mean()\n",
    "print \"\\t\\tnull: \", X_train[X_train['venue_latitude'].isnull()]['acct_type'].mean()\n",
    "\n",
    "print \"\\tlongitude:\"\n",
    "print \"\\t\\tnot-null: \", X_train[X_train['venue_longitude'].notnull()]['acct_type'].mean()\n",
    "print \"\\t\\tnull: \", X_train[X_train['venue_longitude'].isnull()]['acct_type'].mean()"
   ]
  },
  {
   "cell_type": "markdown",
   "metadata": {},
   "source": [
    "The rate of fraud is significantly higher for entries that have null values for venue latitude and longitude. I will create a column that indicates whether the latitude and longitude were missing from each row. Then, I will fill the missing latitude and longitude values with the mean latitude and longitude. This will allow the ensemble algorithms to separate samples based on whether or not the geographic data was missing."
   ]
  },
  {
   "cell_type": "code",
   "execution_count": 131,
   "metadata": {
    "collapsed": false
   },
   "outputs": [],
   "source": [
    "X_train['missing_geographic_data'] = X_train['venue_latitude'].isnull().astype(int)\n",
    "\n",
    "imputer = Imputer()\n",
    "X_train[['venue_latitude', 'venue_longitude']] = imputer.fit_transform(X_train[['venue_latitude',\n",
    "                                                                                'venue_longitude']])"
   ]
  },
  {
   "cell_type": "markdown",
   "metadata": {},
   "source": [
    "Now, I want to analyze the event descriptions. The descriptions are written in html, so I need to extract the text from the tags. I will use html2text for this purpose."
   ]
  },
  {
   "cell_type": "code",
   "execution_count": 132,
   "metadata": {
    "collapsed": false
   },
   "outputs": [],
   "source": [
    "def get_text(row):\n",
    "    h = html2text.HTML2Text()\n",
    "    h.ignore_links = True\n",
    "    return h.handle(row)\n",
    "\n",
    "X_train['description'] = X_train['description'].apply(get_text)"
   ]
  },
  {
   "cell_type": "markdown",
   "metadata": {},
   "source": [
    "Next, I need to transform the raw text into feature vectors for training the classifier. I use the tf-idf vectorizer from sklearn. This will create feature vectors for the text, which essentially gives a weighted frequency of each word in each text sample (<a href=\"http://nlp.stanford.edu/IR-book/html/htmledition/tf-idf-weighting-1.html\">Stanford</a>). I also want to remove stopwords (such as \"if\", \"the\", etc.), as these are very common and not useful for the analysis. I include an n-gram range of 1-2, which means the vectorizer will consider all of the words alone, but will also consider pairs of words."
   ]
  },
  {
   "cell_type": "code",
   "execution_count": 133,
   "metadata": {
    "collapsed": false
   },
   "outputs": [],
   "source": [
    "vectorizer = TfidfVectorizer(stop_words='english', ngram_range=(1, 2))\n",
    "X_nb = vectorizer.fit_transform(X_train['description'])\n",
    "y_nb = X_train['acct_type']"
   ]
  },
  {
   "cell_type": "markdown",
   "metadata": {},
   "source": [
    "I will use a Multinomial Naive Bayes algorithm for the text classification. "
   ]
  },
  {
   "cell_type": "code",
   "execution_count": 134,
   "metadata": {
    "collapsed": true
   },
   "outputs": [],
   "source": [
    "nb = MultinomialNB()\n",
    "nb.fit(X_nb, y_nb)\n",
    "# Use fitted model to get prob. of fraud based on event descriptions\n",
    "X_train['text_prob'] = nb.predict_proba(X_nb)[:, 1]"
   ]
  },
  {
   "cell_type": "code",
   "execution_count": 135,
   "metadata": {
    "collapsed": false
   },
   "outputs": [
    {
     "name": "stdout",
     "output_type": "stream",
     "text": [
      "Mean body length:\n",
      "fraud: 1557.33539732\n",
      "not fraud: 3911.41735664\n"
     ]
    }
   ],
   "source": [
    "print \"Mean body length:\"\n",
    "print \"fraud:\", X_train[X_train['acct_type'] == 1]['body_length'].mean()\n",
    "print \"not fraud:\", X_train[X_train['acct_type'] == 0]['body_length'].mean()"
   ]
  },
  {
   "cell_type": "markdown",
   "metadata": {},
   "source": [
    "As shown above, the fraudulent submissions have a significantly lower average body length than the non-fraudulent submissions."
   ]
  },
  {
   "cell_type": "markdown",
   "metadata": {
    "collapsed": false
   },
   "source": [
    "<p>---</p>\n",
    "Lastly, I will convert the \"listed\" column from 'n' or 'y' to 0 or 1."
   ]
  },
  {
   "cell_type": "code",
   "execution_count": 136,
   "metadata": {
    "collapsed": false
   },
   "outputs": [],
   "source": [
    "def convert_listed_col(row):\n",
    "    if row == 'y':\n",
    "        return 1\n",
    "    elif row == 'n':\n",
    "        return 0\n",
    "\n",
    "X_train['listed'] = X_train['listed'].apply(convert_listed_col)"
   ]
  },
  {
   "cell_type": "markdown",
   "metadata": {
    "collapsed": false
   },
   "source": [
    "Now, I will prepare the training and test sets for the model building. I need to only keep the columns I need for the analysis in the training set, and I need to perform the same feature engineering on the test set."
   ]
  },
  {
   "cell_type": "code",
   "execution_count": 137,
   "metadata": {
    "collapsed": false
   },
   "outputs": [],
   "source": [
    "X_train = X_train[['body_length', 'channels', 'delivery_method', 'fb_published', 'gts', 'has_analytics',\n",
    "                   'has_header', 'has_logo', 'listed', 'name_length', 'num_order', 'num_payouts', 'previous_payouts',\n",
    "                   'sale_duration', 'sale_duration2', 'show_map', 'user_age', 'user_type', 'venue_latitude',\n",
    "                   'venue_longitude', 'missing_geographic_data', 'quantity_sold', 'quant_avail', 'sold_too_many',\n",
    "                   'time_diff', 'text_prob', 'email_probs']]"
   ]
  },
  {
   "cell_type": "code",
   "execution_count": 138,
   "metadata": {
    "collapsed": true
   },
   "outputs": [],
   "source": [
    "X_test['quantity_sold'] = X_test['ticket_types'].apply(get_tix_sold)\n",
    "X_test['quant_avail'] = X_test['ticket_types'].apply(get_tix_avail)\n",
    "X_test['sold_too_many'] = X_test['ticket_types'].apply(too_many_tix)"
   ]
  },
  {
   "cell_type": "code",
   "execution_count": 139,
   "metadata": {
    "collapsed": false
   },
   "outputs": [],
   "source": [
    "X_test['previous_payouts'] = X_test['previous_payouts'].apply(prev_payout)\n",
    "X_test['time_diff'] = X_test['event_start'] - X_test['user_created']\n",
    "X_test['email_probs'] = X_test['email_domain'].apply(get_email_fraud_prob)\n",
    "X_test['description'] = X_test['description'].apply(get_text)\n",
    "X_test['listed'] = X_test['listed'].apply(convert_listed_col)\n",
    "X_test['missing_geographic_data'] = X_test['venue_latitude'].isnull().astype(int)\n",
    "X_test[['venue_latitude', 'venue_longitude']] = imputer.transform(X_test[['venue_latitude', 'venue_longitude']])"
   ]
  },
  {
   "cell_type": "code",
   "execution_count": 140,
   "metadata": {
    "collapsed": false
   },
   "outputs": [],
   "source": [
    "X_nb_test = vectorizer.transform(X_test['description'])\n",
    "X_test['text_prob'] = nb.predict_proba(X_nb_test)[:, 1]"
   ]
  },
  {
   "cell_type": "code",
   "execution_count": 141,
   "metadata": {
    "collapsed": false
   },
   "outputs": [],
   "source": [
    "X_test = X_test[['body_length', 'channels', 'delivery_method', 'fb_published', 'gts', 'has_analytics',\n",
    "                 'has_header', 'has_logo', 'listed', 'name_length', 'num_order', 'num_payouts', 'previous_payouts',\n",
    "                 'sale_duration', 'sale_duration2', 'show_map', 'user_age', 'user_type', 'venue_latitude',\n",
    "                 'venue_longitude', 'missing_geographic_data', 'quantity_sold', 'quant_avail', 'sold_too_many',\n",
    "                 'time_diff', 'text_prob', 'email_probs']]"
   ]
  },
  {
   "cell_type": "code",
   "execution_count": 144,
   "metadata": {
    "collapsed": true
   },
   "outputs": [],
   "source": [
    "X_train = X_train.fillna(-1)\n",
    "X_test = X_test.fillna(-1)"
   ]
  },
  {
   "cell_type": "markdown",
   "metadata": {},
   "source": [
    "First, I will try a random forest classifier with 1,000 estimators to see how it performs."
   ]
  },
  {
   "cell_type": "code",
   "execution_count": 186,
   "metadata": {
    "collapsed": false
   },
   "outputs": [],
   "source": [
    "rf = RandomForestClassifier(n_estimators=1000, n_jobs=-1, class_weight='balanced')"
   ]
  },
  {
   "cell_type": "code",
   "execution_count": 146,
   "metadata": {
    "collapsed": false
   },
   "outputs": [
    {
     "data": {
      "text/plain": [
       "RandomForestClassifier(bootstrap=True, class_weight='balanced',\n",
       "            criterion='gini', max_depth=None, max_features='auto',\n",
       "            max_leaf_nodes=None, min_samples_leaf=1, min_samples_split=2,\n",
       "            min_weight_fraction_leaf=0.0, n_estimators=1000, n_jobs=-1,\n",
       "            oob_score=False, random_state=None, verbose=0,\n",
       "            warm_start=False)"
      ]
     },
     "execution_count": 146,
     "metadata": {},
     "output_type": "execute_result"
    }
   ],
   "source": [
    "rf.fit(X_train, y_train)"
   ]
  },
  {
   "cell_type": "code",
   "execution_count": 147,
   "metadata": {
    "collapsed": false
   },
   "outputs": [
    {
     "data": {
      "text/plain": [
       "0.98605299860529982"
      ]
     },
     "execution_count": 147,
     "metadata": {},
     "output_type": "execute_result"
    }
   ],
   "source": [
    "rf.score(X_test, y_test)"
   ]
  },
  {
   "cell_type": "markdown",
   "metadata": {
    "collapsed": false
   },
   "source": [
    "The score is quite good, but I want to take a look at the confusion matrix to get an idea of how well it is classifying each class type (fraud vs. not fraud)."
   ]
  },
  {
   "cell_type": "code",
   "execution_count": 177,
   "metadata": {
    "collapsed": false
   },
   "outputs": [],
   "source": [
    "def plot_confusion_matrix(cm, title='Confusion matrix', cmap=plt.cm.Blues):\n",
    "    plt.imshow(cm, interpolation='nearest', cmap=cmap)\n",
    "    plt.title(title)\n",
    "    plt.colorbar()\n",
    "    tick_marks = np.arange(len(y_test.unique()))\n",
    "    plt.xticks(tick_marks, ['not fraud', 'fraud'])\n",
    "    plt.yticks(tick_marks, ['not fraud', 'fraud'])\n",
    "    plt.grid(b=False)\n",
    "    plt.tight_layout()\n",
    "    plt.ylabel('True label')\n",
    "    plt.xlabel('Predicted label')\n",
    "\n",
    "\n",
    "cm = confusion_matrix(y_test, rf.predict(X_test))\n",
    "cm_normalized = cm.astype('float') / cm.sum(axis=1)[:, np.newaxis]"
   ]
  },
  {
   "cell_type": "code",
   "execution_count": 149,
   "metadata": {
    "collapsed": false
   },
   "outputs": [
    {
     "data": {
      "text/plain": [
       "array([[ 0.99540018,  0.00459982],\n",
       "       [ 0.10802469,  0.89197531]])"
      ]
     },
     "execution_count": 149,
     "metadata": {},
     "output_type": "execute_result"
    }
   ],
   "source": [
    "cm_normalized"
   ]
  },
  {
   "cell_type": "code",
   "execution_count": 179,
   "metadata": {
    "collapsed": false
   },
   "outputs": [
    {
     "data": {
      "image/png": "[encoded data removed]",
      "text/plain": [
       "<matplotlib.figure.Figure at 0x14303ea10>"
      ]
     },
     "metadata": {},
     "output_type": "display_data"
    }
   ],
   "source": [
    "plot_confusion_matrix(cm_normalized, title='Random Forest Confusion Matrix')"
   ]
  },
  {
   "cell_type": "markdown",
   "metadata": {
    "collapsed": false
   },
   "source": [
    "The results using the random forest classifier are good.  We are getting about 98.6% accuracy overall, and a false positive rate of about 0.45%. The false negative rate is a bit higher than I would like, at about 10.8%. I want to also try an AdaBoost classifier, to see how it compares to the random forest model above."
   ]
  },
  {
   "cell_type": "code",
   "execution_count": 180,
   "metadata": {
    "collapsed": false
   },
   "outputs": [],
   "source": [
    "ada = AdaBoostClassifier(DecisionTreeClassifier(max_depth=10),\n",
    "                         algorithm='SAMME', n_estimators=1500)"
   ]
  },
  {
   "cell_type": "code",
   "execution_count": 181,
   "metadata": {
    "collapsed": false
   },
   "outputs": [
    {
     "data": {
      "text/plain": [
       "AdaBoostClassifier(algorithm='SAMME',\n",
       "          base_estimator=DecisionTreeClassifier(class_weight=None, criterion='gini', max_depth=10,\n",
       "            max_features=None, max_leaf_nodes=None, min_samples_leaf=1,\n",
       "            min_samples_split=2, min_weight_fraction_leaf=0.0,\n",
       "            presort=False, random_state=None, splitter='best'),\n",
       "          learning_rate=1.0, n_estimators=1500, random_state=None)"
      ]
     },
     "execution_count": 181,
     "metadata": {},
     "output_type": "execute_result"
    }
   ],
   "source": [
    "ada.fit(X_train, y_train)"
   ]
  },
  {
   "cell_type": "code",
   "execution_count": 182,
   "metadata": {
    "collapsed": false
   },
   "outputs": [
    {
     "data": {
      "text/plain": [
       "0.98800557880055784"
      ]
     },
     "execution_count": 182,
     "metadata": {},
     "output_type": "execute_result"
    }
   ],
   "source": [
    "ada.score(X_test, y_test)"
   ]
  },
  {
   "cell_type": "code",
   "execution_count": 183,
   "metadata": {
    "collapsed": false
   },
   "outputs": [],
   "source": [
    "cm_ada = confusion_matrix(y_test, ada.predict(X_test))\n",
    "cm_ada_normalized = cm_ada.astype('float') / cm_ada.sum(axis=1)[:, np.newaxis]"
   ]
  },
  {
   "cell_type": "code",
   "execution_count": 184,
   "metadata": {
    "collapsed": false
   },
   "outputs": [
    {
     "data": {
      "text/plain": [
       "array([[ 0.9966268 ,  0.0033732 ],\n",
       "       [ 0.09876543,  0.90123457]])"
      ]
     },
     "execution_count": 184,
     "metadata": {},
     "output_type": "execute_result"
    }
   ],
   "source": [
    "cm_ada_normalized"
   ]
  },
  {
   "cell_type": "code",
   "execution_count": 185,
   "metadata": {
    "collapsed": false
   },
   "outputs": [
    {
     "data": {
      "image/png": "[encoded data removed]",
      "text/plain": [
       "<matplotlib.figure.Figure at 0x127a3a1d0>"
      ]
     },
     "metadata": {},
     "output_type": "display_data"
    }
   ],
   "source": [
    "plot_confusion_matrix(cm_ada_normalized, title=\"AdaBoost Confusion Matrix\")"
   ]
  },
  {
   "cell_type": "markdown",
   "metadata": {},
   "source": [
    "The AdaBoost classifier appears to have done well, even slightly better than the random forest classifier. The accuracy is about 98.8%, and the false positive rate is about 0.34%. The false negative rate is around 9.9%. These numbers are all slight improvements over the random forest classifier. These values also indicate the AdaBoost classifier model is better at predicting both non-fraud and fraud events correctly."
   ]
  },
  {
   "cell_type": "markdown",
   "metadata": {},
   "source": [
    "<h2>Conclusion</h2>\n",
    "<p>This is definitely a good start to building a classification model for detecting fraudulent event submissions. Based on a couple of models, we are getting high accuracy (~99%) overall, and a low false positive rate (~0.3%). The false negative rate could be significantly lower, so there is more that could be tried in an attempt to make this model better, such as: more/different feature engineering, different model types, and different parameters for the models.</p>"
   ]
  }
 ],
 "metadata": {
  "kernelspec": {
   "display_name": "Python 2",
   "language": "python",
   "name": "python2"
  },
  "language_info": {
   "codemirror_mode": {
    "name": "ipython",
    "version": 2
   },
   "file_extension": ".py",
   "mimetype": "text/x-python",
   "name": "python",
   "nbconvert_exporter": "python",
   "pygments_lexer": "ipython2",
   "version": "2.7.9"
  }
 },
 "nbformat": 4,
 "nbformat_minor": 0
}
